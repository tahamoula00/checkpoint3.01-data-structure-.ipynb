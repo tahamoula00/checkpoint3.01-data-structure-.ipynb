{
  "nbformat": 4,
  "nbformat_minor": 0,
  "metadata": {
    "colab": {
      "name": "checkpoint3.0(data structure).ipynb",
      "provenance": []
    },
    "kernelspec": {
      "name": "python3",
      "display_name": "Python 3"
    },
    "language_info": {
      "name": "python"
    }
  },
  "cells": [
    {
      "cell_type": "markdown",
      "metadata": {
        "id": "02rgYQZDQiXA"
      },
      "source": [
        "Write a Python program to multiplies all the items in a list.\n",
        "\n",
        "for example list=[2, 3, 6]\n",
        "\n",
        "result = 36\n"
      ]
    },
    {
      "cell_type": "code",
      "metadata": {
        "colab": {
          "base_uri": "https://localhost:8080/"
        },
        "id": "j5u04cY0QYDL",
        "outputId": "a99a1873-9137-4d8d-d8bb-f6ec59bfd838"
      },
      "source": [
        "#Question\n",
        "list1=[2,3,6]\n",
        "R=1\n",
        "for i in (list1):\n",
        "  R*=i\n",
        "print(R)"
      ],
      "execution_count": null,
      "outputs": [
        {
          "output_type": "stream",
          "text": [
            "36\n"
          ],
          "name": "stdout"
        }
      ]
    },
    {
      "cell_type": "markdown",
      "metadata": {
        "id": "Mo_koGWCSyaR"
      },
      "source": [
        "Write a Python program to get a list, sorted in increasing order by the last element in each tuple from a given list of non-empty tuples.\n",
        "Sample List : [(2, 5), (1, 2), (4, 4), (2, 3), (2, 1)]\n",
        "Expected Result : [(2, 1), (1, 2), (2, 3), (4, 4), (2, 5)]\n",
        "\n",
        "Hint: You can use sort function\n"
      ]
    },
    {
      "cell_type": "code",
      "metadata": {
        "colab": {
          "base_uri": "https://localhost:8080/"
        },
        "id": "ZIYSpFBuS1jE",
        "outputId": "0e8bc796-551b-4f1e-cf5f-c7a66816758f"
      },
      "source": [
        "#Question2\n",
        "list1=[(2,5,6),(1,2,3),(4,4,4),(2,3,5),(2,1,2)]\n",
        "list1.sort(key=lambda :[-2])\n",
        "print(list1)\n"
      ],
      "execution_count": null,
      "outputs": [
        {
          "output_type": "stream",
          "text": [
            "[(2, 1, 2), (1, 2, 3), (2, 3, 5), (4, 4, 4), (2, 5, 6)]\n"
          ],
          "name": "stdout"
        }
      ]
    },
    {
      "cell_type": "markdown",
      "metadata": {
        "id": "Lk--QTSaYI8n"
      },
      "source": [
        "Write a Python program to combine two dictionary adding values for common keys.\n",
        "\n",
        "d1 = {'a': 100, 'b': 200, 'c':300}\n",
        "d2 = {'a': 300, 'b': 200, 'd':400}\n",
        "Expected output: {'a': 400, 'b': 400, 'd': 400, 'c': 300}"
      ]
    },
    {
      "cell_type": "code",
      "metadata": {
        "colab": {
          "base_uri": "https://localhost:8080/"
        },
        "id": "qwrQ8ioOYRyU",
        "outputId": "d5f8778a-4586-421d-e15d-113c536ec8d6"
      },
      "source": [
        "D1={\"a\":100,\"b\":200,\"c\":300}\n",
        "D2={\"a\":300,\"b\":200,\"c\":400}\n",
        "D={}\n",
        "for i in D1.keys():\n",
        "  for i in D2.keys():\n",
        "      D[i]=D1[i]+D2[i]\n",
        "print(D)\n",
        "      \n"
      ],
      "execution_count": null,
      "outputs": [
        {
          "output_type": "stream",
          "text": [
            "{'a': 400, 'b': 400, 'c': 700}\n"
          ],
          "name": "stdout"
        }
      ]
    },
    {
      "cell_type": "markdown",
      "metadata": {
        "id": "00JDYPL5cwTN"
      },
      "source": [
        ""
      ]
    },
    {
      "cell_type": "code",
      "metadata": {
        "colab": {
          "base_uri": "https://localhost:8080/"
        },
        "id": "Qx41pQGPbKy0",
        "outputId": "86efdad7-0af4-4e98-e82c-3f3f82f9a5b1"
      },
      "source": [
        "from collections import*\n",
        "D3=Counter(D1)+Counter(D2)\n",
        "print(D3)"
      ],
      "execution_count": null,
      "outputs": [
        {
          "output_type": "stream",
          "text": [
            "Counter({'c': 700, 'a': 400, 'b': 400})\n"
          ],
          "name": "stdout"
        }
      ]
    },
    {
      "cell_type": "code",
      "metadata": {
        "colab": {
          "base_uri": "https://localhost:8080/"
        },
        "id": "9bd8FZR6cRkR",
        "outputId": "652925c8-998b-4b47-82bd-f37e4b35100c"
      },
      "source": [
        "print(Counter(D1))"
      ],
      "execution_count": null,
      "outputs": [
        {
          "output_type": "stream",
          "text": [
            "Counter({'c': 300, 'b': 200, 'a': 100})\n"
          ],
          "name": "stdout"
        }
      ]
    },
    {
      "cell_type": "markdown",
      "metadata": {
        "id": "v8Do2YeG1_e8"
      },
      "source": [
        "Question: With a given integral number n, write a program to generate a dictionary that contains (i, i*i) such that is an integral number between 1 and n (both included). and then the program should print the dictionary. Suppose the following input is supplied to the program: 8 Then, the output should be: {1: 1, 2: 4, 3: 9, 4: 16, 5: 25, 6: 36, 7: 49, 8: 64}"
      ]
    },
    {
      "cell_type": "code",
      "metadata": {
        "colab": {
          "base_uri": "https://localhost:8080/"
        },
        "id": "t2hHjgQk2Hj1",
        "outputId": "275e9b81-80d1-4ca7-dd3a-c4292e7b0a1c"
      },
      "source": [
        "#question 4\n",
        "N=int(input(\"donner un entier:\"))\n",
        "D={i: i*i for i in range(1,N+1)}\n",
        "print(D)\n",
        "\n",
        "\n",
        "\n",
        "\n"
      ],
      "execution_count": 70,
      "outputs": [
        {
          "output_type": "stream",
          "text": [
            "donner un entier:5\n",
            "{1: 1, 2: 4, 3: 9, 4: 16, 5: 25}\n"
          ],
          "name": "stdout"
        }
      ]
    },
    {
      "cell_type": "markdown",
      "metadata": {
        "id": "ATRJzHl5QNYx"
      },
      "source": [
        "Question 5: \n",
        "\n",
        "Write a program to sort a tuple by its float element.\n",
        "For example list= [('item1', '12.20'), ('item2', '15.10'), ('item3', '24.5')]\n",
        "Expected Output: [('item3', '24.5'), ('item2', '15.10'), ('item1', '12.20')]"
      ]
    },
    {
      "cell_type": "code",
      "metadata": {
        "colab": {
          "base_uri": "https://localhost:8080/"
        },
        "id": "ns8bu9g3QQUr",
        "outputId": "8d3c0a02-76ca-4a63-b0b2-61738c4609fe"
      },
      "source": [
        "#Question 5 \n",
        "tuple = [('item1', '12.20'), ('item2', '15.10'), ('item3', '24.5')]\n",
        "print( sorted(tuple, key=lambda x: float(x[1]), reverse=True))"
      ],
      "execution_count": 74,
      "outputs": [
        {
          "output_type": "stream",
          "text": [
            "[('item3', '24.5'), ('item2', '15.10'), ('item1', '12.20')]\n"
          ],
          "name": "stdout"
        }
      ]
    },
    {
      "cell_type": "code",
      "metadata": {
        "id": "uJROhateSWIO"
      },
      "source": [
        "\n"
      ],
      "execution_count": null,
      "outputs": []
    }
  ]
}